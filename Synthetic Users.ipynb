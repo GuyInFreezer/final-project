{
 "cells": [
  {
   "cell_type": "code",
   "execution_count": 1,
   "metadata": {},
   "outputs": [],
   "source": [
    "import numpy as np\n",
    "import pandas as pd\n",
    "\n",
    "# Define user profiles\n",
    "user_profiles = [\n",
    "    {\"id\": 1, \"age\": 25, \"gender\": \"M\", \"fitness_level\": \"high\", \"response_rate\": 0.9},\n",
    "    {\"id\": 2, \"age\": 40, \"gender\": \"F\", \"fitness_level\": \"medium\", \"response_rate\": 0.7},\n",
    "    {\"id\": 3, \"age\": 60, \"gender\": \"M\", \"fitness_level\": \"low\", \"response_rate\": 0.5},\n",
    "    # Add more profiles as needed\n",
    "]\n"
   ]
  },
  {
   "cell_type": "code",
   "execution_count": 2,
   "metadata": {},
   "outputs": [
    {
     "name": "stdout",
     "output_type": "stream",
     "text": [
      "   user_id  day     nudge  response  steps\n",
      "0        1    1  moderate     False    410\n",
      "1        2    1   intense     False    169\n",
      "2        3    1  moderate      True   1464\n",
      "3        1    2    gentle      True   4697\n",
      "4        2    2  moderate      True   4482\n"
     ]
    }
   ],
   "source": [
    "# Define nudges\n",
    "nudges = [\"gentle\", \"moderate\", \"intense\"]\n",
    "\n",
    "# Define simulation duration\n",
    "days = 30\n",
    "\n",
    "# Generate synthetic data\n",
    "data = []\n",
    "\n",
    "for day in range(days):\n",
    "    for user in user_profiles:\n",
    "        nudge = np.random.choice(nudges)\n",
    "        response = np.random.rand() < user[\"response_rate\"]\n",
    "        steps = np.random.randint(1000, 5000) if response else np.random.randint(0, 1000)\n",
    "        \n",
    "        data.append({\n",
    "            \"user_id\": user[\"id\"],\n",
    "            \"day\": day + 1,\n",
    "            \"nudge\": nudge,\n",
    "            \"response\": response,\n",
    "            \"steps\": steps\n",
    "        })\n",
    "\n",
    "# Convert to DataFrame\n",
    "df = pd.DataFrame(data)\n",
    "print(df.head())\n"
   ]
  },
  {
   "cell_type": "code",
   "execution_count": 3,
   "metadata": {},
   "outputs": [
    {
     "name": "stdout",
     "output_type": "stream",
     "text": [
      "   user_id  day     nudge        steps\n",
      "0        1    1    gentle  1933.001134\n",
      "1        2    1    gentle  2371.579560\n",
      "2        3    1    gentle  2271.879243\n",
      "3        1    2  moderate  3041.999281\n",
      "4        2    2   intense  4328.176531\n"
     ]
    }
   ],
   "source": [
    "def simulate_user_response(user_profile, nudge):\n",
    "    base_steps = 2000\n",
    "    multiplier = {\n",
    "        \"gentle\": 1.0,\n",
    "        \"moderate\": 1.5,\n",
    "        \"intense\": 2.0\n",
    "    }\n",
    "    \n",
    "    steps = base_steps * multiplier[nudge]\n",
    "    noise = np.random.normal(0, 200)  # Add some randomness\n",
    "    response = np.random.rand() < user_profile[\"response_rate\"]\n",
    "    \n",
    "    return max(0, steps + noise) if response else np.random.randint(0, 1000)\n",
    "\n",
    "# Generate synthetic data with the behavior model\n",
    "data = []\n",
    "\n",
    "for day in range(days):\n",
    "    for user in user_profiles:\n",
    "        nudge = np.random.choice(nudges)\n",
    "        steps = simulate_user_response(user, nudge)\n",
    "        \n",
    "        data.append({\n",
    "            \"user_id\": user[\"id\"],\n",
    "            \"day\": day + 1,\n",
    "            \"nudge\": nudge,\n",
    "            \"steps\": steps\n",
    "        })\n",
    "\n",
    "# Convert to DataFrame\n",
    "df = pd.DataFrame(data)\n",
    "print(df.head())\n"
   ]
  },
  {
   "cell_type": "code",
   "execution_count": 4,
   "metadata": {},
   "outputs": [
    {
     "name": "stdout",
     "output_type": "stream",
     "text": [
      "         user_id        day        steps\n",
      "count  90.000000  90.000000    90.000000\n",
      "mean    2.000000  15.500000  2296.582453\n",
      "std     0.821071   8.703932  1489.355212\n",
      "min     1.000000   1.000000     3.000000\n",
      "25%     1.000000   8.000000   679.500000\n",
      "50%     2.000000  15.500000  2185.356278\n",
      "75%     3.000000  23.000000  3881.040154\n",
      "max     3.000000  30.000000  4473.732386\n"
     ]
    }
   ],
   "source": [
    "# Save to CSV\n",
    "df.to_csv(\"synthetic_user_data.csv\", index=False)\n",
    "\n",
    "# Load and analyze\n",
    "df = pd.read_csv(\"synthetic_user_data.csv\")\n",
    "print(df.describe())\n"
   ]
  }
 ],
 "metadata": {
  "kernelspec": {
   "display_name": "base",
   "language": "python",
   "name": "python3"
  },
  "language_info": {
   "codemirror_mode": {
    "name": "ipython",
    "version": 3
   },
   "file_extension": ".py",
   "mimetype": "text/x-python",
   "name": "python",
   "nbconvert_exporter": "python",
   "pygments_lexer": "ipython3",
   "version": "3.11.8"
  }
 },
 "nbformat": 4,
 "nbformat_minor": 2
}
